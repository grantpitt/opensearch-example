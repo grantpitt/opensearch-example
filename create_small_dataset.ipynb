{
 "cells": [
  {
   "cell_type": "code",
   "execution_count": 3,
   "metadata": {},
   "outputs": [],
   "source": [
    "from playwright.async_api import async_playwright\n",
    "from bs4 import BeautifulSoup\n",
    "import re\n",
    "import tqdm"
   ]
  },
  {
   "cell_type": "code",
   "execution_count": 5,
   "metadata": {},
   "outputs": [
    {
     "name": "stderr",
     "output_type": "stream",
     "text": [
      "27it [01:03,  2.34s/it]\n"
     ]
    }
   ],
   "source": [
    "# crape with beautiful soup and playwright\n",
    "url = \"https://constitutioncenter.org/the-constitution/amendments\"\n",
    "\n",
    "scraped_data = []\n",
    "\n",
    "async with async_playwright() as p:\n",
    "    browser = await p.chromium.launch()\n",
    "    page = await browser.new_page()\n",
    "    await page.goto(url)\n",
    "    content = await page.content()\n",
    "\n",
    "    # get links with href=\"/the-constitution/amendments/amendment-*\"\n",
    "    soup = BeautifulSoup(content, \"html.parser\")\n",
    "    links = soup.find_all(\"a\", href=re.compile(\"/the-constitution/amendments/amendment-\"))\n",
    "\n",
    "    for i, link in tqdm.tqdm(enumerate(links)):\n",
    "        # wait one second to avoid getting blocked\n",
    "        await page.wait_for_timeout(2000)\n",
    "\n",
    "        data = {\n",
    "            \"number\": i + 1\n",
    "        }\n",
    "\n",
    "        await page.goto(\"https://constitutioncenter.org\" + link[\"href\"])\n",
    "        content = await page.content()\n",
    "        soup = BeautifulSoup(content, \"html.parser\")\n",
    "        # get the text\n",
    "        parent = soup.find(\"div\", class_=\"col-md-8\")\n",
    "        text = parent.find(\"p\").text\n",
    "        data[\"text\"] = text\n",
    "\n",
    "        # get the date ratified\n",
    "        parent = soup.find(\"div\", class_=\"card card-body\")\n",
    "        date = parent.find(\"p\").text\n",
    "        data[\"ratified\"] = date\n",
    "\n",
    "        scraped_data.append(data)\n",
    "\n",
    "    await browser.close()"
   ]
  },
  {
   "cell_type": "code",
   "execution_count": 9,
   "metadata": {},
   "outputs": [],
   "source": [
    "cleaned = []\n",
    "\n",
    "for amendment in scraped_data:\n",
    "    date_sentence_words = amendment[\"ratified\"].split(\" \")\n",
    "    index_of_ratified = date_sentence_words.index(\"Ratified\")\n",
    "    if index_of_ratified == -1:\n",
    "        print(\"error\")\n",
    "        continue\n",
    "    date = date_sentence_words[index_of_ratified + 1: index_of_ratified + 4]\n",
    "    date = \" \".join(date)\n",
    "    if date[-1] == \".\":\n",
    "        date = date[:-1]\n",
    "    cleaned.append({\n",
    "        \"number\": amendment[\"number\"],\n",
    "        \"text\": amendment[\"text\"],\n",
    "        \"ratified\": date\n",
    "    })"
   ]
  },
  {
   "cell_type": "code",
   "execution_count": 10,
   "metadata": {},
   "outputs": [],
   "source": [
    "import numpy as np\n",
    "from sentence_transformers import SentenceTransformer\n",
    "\n",
    "model = SentenceTransformer('sentence-transformers/all-MiniLM-L6-v2')"
   ]
  },
  {
   "cell_type": "code",
   "execution_count": 11,
   "metadata": {},
   "outputs": [],
   "source": [
    "amendments_with_embeddings = []\n",
    "\n",
    "for amendment in cleaned:\n",
    "    amendments_with_embeddings.append({\n",
    "        \"number\": amendment[\"number\"],\n",
    "        \"text\": amendment[\"text\"],\n",
    "        \"ratified\": amendment[\"ratified\"],\n",
    "        \"text_embedding\": model.encode(amendment[\"text\"]).tolist()\n",
    "    })"
   ]
  },
  {
   "cell_type": "code",
   "execution_count": 17,
   "metadata": {},
   "outputs": [],
   "source": [
    "import datetime\n",
    "\n",
    "def get_date(date_string):\n",
    "    date = datetime.datetime.strptime(date_string, \"%B %d, %Y\")\n",
    "    # date in seconds\n",
    "    return date.timestamp()\n",
    "\n",
    "for amendment in amendments_with_embeddings:\n",
    "    amendment[\"ratified_seconds\"] = get_date(amendment[\"ratified\"])"
   ]
  },
  {
   "cell_type": "code",
   "execution_count": 18,
   "metadata": {},
   "outputs": [],
   "source": [
    "import json\n",
    "\n",
    "with open(\"amendments.json\", \"w\") as f:\n",
    "    json.dump(amendments_with_embeddings, f)"
   ]
  }
 ],
 "metadata": {
  "kernelspec": {
   "display_name": "Python 3",
   "language": "python",
   "name": "python3"
  },
  "language_info": {
   "codemirror_mode": {
    "name": "ipython",
    "version": 3
   },
   "file_extension": ".py",
   "mimetype": "text/x-python",
   "name": "python",
   "nbconvert_exporter": "python",
   "pygments_lexer": "ipython3",
   "version": "3.10.8"
  },
  "orig_nbformat": 4,
  "vscode": {
   "interpreter": {
    "hash": "b0fa6594d8f4cbf19f97940f81e996739fb7646882a419484c72d19e05852a7e"
   }
  }
 },
 "nbformat": 4,
 "nbformat_minor": 2
}
